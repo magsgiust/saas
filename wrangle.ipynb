{
 "cells": [
  {
   "cell_type": "markdown",
   "id": "d4cda7e2",
   "metadata": {},
   "source": [
    "# Wrangle SaaS Data\n",
    "\n",
    "Here we will acquire data from a mySQL database. The connection details are hidden in the env python module, and you can see the SQL query used in the cell below.\n"
   ]
  },
  {
   "cell_type": "code",
   "execution_count": 17,
   "id": "0d8a5c33",
   "metadata": {},
   "outputs": [],
   "source": [
    "import pandas as pd\n",
    "import env\n",
    "import matplotlib.pyplot as plt\n",
    "import os\n",
    "import seaborn as sns\n",
    "\n",
    "url = f'mysql+pymysql://{env.user}:{env.password}@{env.host}/saas_llc'\n",
    "query = '''\n",
    "select cust.customer_id\n",
    "    , cust.latitude\n",
    "    , cust.longitude\n",
    "    , cust.city\n",
    "    , cust.state\n",
    "    , cust.district\n",
    "    , churn.churn_month\n",
    "    , su.signup_month\n",
    "    , inv.invoice_month\n",
    "    , inv.invoice_id\n",
    "    , inv.amount\n",
    "    , sub.subscription_desc\n",
    "    , sub.subscription_price\n",
    "    , sub.subscription_available\n",
    "from customer_details cust\n",
    "right join invoice inv on cust.customer_id = inv.customer_id\n",
    "left join churn on inv.customer_id = churn.customer_id\n",
    "left join signup su on inv.customer_id = su.customer_id\n",
    "left join subscription sub on inv.subscription_id = sub.subscription_id;\n",
    "'''\n",
    "\n",
    "# df = pd.read_sql(query, url)\n",
    "# df.to_csv(\"saas.csv\")"
   ]
  },
  {
   "cell_type": "code",
   "execution_count": 18,
   "id": "68f78946",
   "metadata": {},
   "outputs": [],
   "source": [
    "def get_saas_data():\n",
    "    filename = \"saas.csv\"\n",
    "\n",
    "    if os.path.isfile(filename):\n",
    "        return pd.read_csv(filename)\n",
    "    else:\n",
    "        # read the SQL query into a dataframe\n",
    "        df = pd.read_sql(query, url)\n",
    "\n",
    "        # Write that dataframe to disk for later. Called \"caching\" the data for later.\n",
    "        df.to_file(filename)\n",
    "\n",
    "        # Return the dataframe to the calling code\n",
    "        return df  "
   ]
  },
  {
   "cell_type": "markdown",
   "id": "bd29d629",
   "metadata": {},
   "source": [
    "Run the function above, that acquires the csv if it has been cached locally and saved, or acquires the data from the sql database using the query above, if the data has not been cached and saved locally. "
   ]
  },
  {
   "cell_type": "code",
   "execution_count": 19,
   "id": "61b54478",
   "metadata": {},
   "outputs": [],
   "source": [
    "df = get_saas_data()"
   ]
  },
  {
   "cell_type": "code",
   "execution_count": 20,
   "id": "6680e4bd",
   "metadata": {},
   "outputs": [
    {
     "data": {
      "text/html": [
       "<div>\n",
       "<style scoped>\n",
       "    .dataframe tbody tr th:only-of-type {\n",
       "        vertical-align: middle;\n",
       "    }\n",
       "\n",
       "    .dataframe tbody tr th {\n",
       "        vertical-align: top;\n",
       "    }\n",
       "\n",
       "    .dataframe thead th {\n",
       "        text-align: right;\n",
       "    }\n",
       "</style>\n",
       "<table border=\"1\" class=\"dataframe\">\n",
       "  <thead>\n",
       "    <tr style=\"text-align: right;\">\n",
       "      <th></th>\n",
       "      <th>Unnamed: 0</th>\n",
       "      <th>customer_id</th>\n",
       "      <th>latitude</th>\n",
       "      <th>longitude</th>\n",
       "      <th>city</th>\n",
       "      <th>state</th>\n",
       "      <th>district</th>\n",
       "      <th>churn_month</th>\n",
       "      <th>signup_month</th>\n",
       "      <th>invoice_month</th>\n",
       "      <th>invoice_id</th>\n",
       "      <th>amount</th>\n",
       "      <th>subscription_desc</th>\n",
       "      <th>subscription_price</th>\n",
       "      <th>subscription_available</th>\n",
       "    </tr>\n",
       "  </thead>\n",
       "  <tbody>\n",
       "    <tr>\n",
       "      <th>0</th>\n",
       "      <td>0</td>\n",
       "      <td>1000000</td>\n",
       "      <td>42.001949</td>\n",
       "      <td>-70.915455</td>\n",
       "      <td>EAST BRIDGEWATER</td>\n",
       "      <td>MA</td>\n",
       "      <td>PLYMOUTH</td>\n",
       "      <td>2014-12-31</td>\n",
       "      <td>2014-01-31</td>\n",
       "      <td>2014-01-31</td>\n",
       "      <td>5000000</td>\n",
       "      <td>0</td>\n",
       "      <td>free</td>\n",
       "      <td>0.0</td>\n",
       "      <td>1</td>\n",
       "    </tr>\n",
       "    <tr>\n",
       "      <th>1</th>\n",
       "      <td>1</td>\n",
       "      <td>1000002</td>\n",
       "      <td>42.351153</td>\n",
       "      <td>-71.058183</td>\n",
       "      <td>BOSTON</td>\n",
       "      <td>MA</td>\n",
       "      <td>SUFFOLK</td>\n",
       "      <td>2017-08-31</td>\n",
       "      <td>2014-01-31</td>\n",
       "      <td>2014-01-31</td>\n",
       "      <td>5000002</td>\n",
       "      <td>0</td>\n",
       "      <td>free</td>\n",
       "      <td>0.0</td>\n",
       "      <td>1</td>\n",
       "    </tr>\n",
       "    <tr>\n",
       "      <th>2</th>\n",
       "      <td>2</td>\n",
       "      <td>1000004</td>\n",
       "      <td>42.458185</td>\n",
       "      <td>-70.935629</td>\n",
       "      <td>LYNN</td>\n",
       "      <td>MA</td>\n",
       "      <td>ESSEX</td>\n",
       "      <td>2015-09-30</td>\n",
       "      <td>2014-01-31</td>\n",
       "      <td>2014-01-31</td>\n",
       "      <td>5000004</td>\n",
       "      <td>10</td>\n",
       "      <td>smb</td>\n",
       "      <td>10.0</td>\n",
       "      <td>1</td>\n",
       "    </tr>\n",
       "    <tr>\n",
       "      <th>3</th>\n",
       "      <td>3</td>\n",
       "      <td>1000005</td>\n",
       "      <td>41.737983</td>\n",
       "      <td>-70.192834</td>\n",
       "      <td>DENNIS</td>\n",
       "      <td>MA</td>\n",
       "      <td>BARNSTABLE</td>\n",
       "      <td>2014-09-30</td>\n",
       "      <td>2014-01-31</td>\n",
       "      <td>2014-01-31</td>\n",
       "      <td>5000005</td>\n",
       "      <td>0</td>\n",
       "      <td>free</td>\n",
       "      <td>0.0</td>\n",
       "      <td>1</td>\n",
       "    </tr>\n",
       "    <tr>\n",
       "      <th>4</th>\n",
       "      <td>4</td>\n",
       "      <td>1000006</td>\n",
       "      <td>42.717089</td>\n",
       "      <td>-71.181776</td>\n",
       "      <td>LAWRENCE</td>\n",
       "      <td>MA</td>\n",
       "      <td>ESSEX</td>\n",
       "      <td>2015-03-31</td>\n",
       "      <td>2014-01-31</td>\n",
       "      <td>2014-01-31</td>\n",
       "      <td>5000006</td>\n",
       "      <td>20</td>\n",
       "      <td>corporate</td>\n",
       "      <td>20.0</td>\n",
       "      <td>1</td>\n",
       "    </tr>\n",
       "  </tbody>\n",
       "</table>\n",
       "</div>"
      ],
      "text/plain": [
       "   Unnamed: 0  customer_id   latitude  longitude              city state  \\\n",
       "0           0      1000000  42.001949 -70.915455  EAST BRIDGEWATER    MA   \n",
       "1           1      1000002  42.351153 -71.058183            BOSTON    MA   \n",
       "2           2      1000004  42.458185 -70.935629              LYNN    MA   \n",
       "3           3      1000005  41.737983 -70.192834            DENNIS    MA   \n",
       "4           4      1000006  42.717089 -71.181776          LAWRENCE    MA   \n",
       "\n",
       "     district churn_month signup_month invoice_month  invoice_id  amount  \\\n",
       "0    PLYMOUTH  2014-12-31   2014-01-31    2014-01-31     5000000       0   \n",
       "1     SUFFOLK  2017-08-31   2014-01-31    2014-01-31     5000002       0   \n",
       "2       ESSEX  2015-09-30   2014-01-31    2014-01-31     5000004      10   \n",
       "3  BARNSTABLE  2014-09-30   2014-01-31    2014-01-31     5000005       0   \n",
       "4       ESSEX  2015-03-31   2014-01-31    2014-01-31     5000006      20   \n",
       "\n",
       "  subscription_desc  subscription_price  subscription_available  \n",
       "0              free                 0.0                       1  \n",
       "1              free                 0.0                       1  \n",
       "2               smb                10.0                       1  \n",
       "3              free                 0.0                       1  \n",
       "4         corporate                20.0                       1  "
      ]
     },
     "execution_count": 20,
     "metadata": {},
     "output_type": "execute_result"
    }
   ],
   "source": [
    "df.head(5)"
   ]
  },
  {
   "cell_type": "markdown",
   "id": "e69ccb2d",
   "metadata": {},
   "source": [
    "Q: Where are these customers located? "
   ]
  },
  {
   "cell_type": "code",
   "execution_count": 15,
   "id": "95a58db2",
   "metadata": {},
   "outputs": [
    {
     "data": {
      "image/png": "[encoded data removed]",
      "text/plain": [
       "<Figure size 432x288 with 1 Axes>"
      ]
     },
     "metadata": {
      "needs_background": "light"
     },
     "output_type": "display_data"
    }
   ],
   "source": [
    "plt.scatter(x=df.longitude, y=df.latitude)\n",
    "plt.show()"
   ]
  },
  {
   "cell_type": "markdown",
   "id": "d1eb87c0",
   "metadata": {},
   "source": [
    "Massachusetts"
   ]
  },
  {
   "cell_type": "code",
   "execution_count": 16,
   "id": "a1858be4",
   "metadata": {},
   "outputs": [
    {
     "name": "stdout",
     "output_type": "stream",
     "text": [
      "<class 'pandas.core.frame.DataFrame'>\n",
      "RangeIndex: 791302 entries, 0 to 791301\n",
      "Data columns (total 14 columns):\n",
      " #   Column                  Non-Null Count   Dtype  \n",
      "---  ------                  --------------   -----  \n",
      " 0   customer_id             791302 non-null  int64  \n",
      " 1   latitude                791302 non-null  float64\n",
      " 2   longitude               791302 non-null  float64\n",
      " 3   city                    791302 non-null  object \n",
      " 4   state                   791302 non-null  object \n",
      " 5   district                791302 non-null  object \n",
      " 6   churn_month             293366 non-null  object \n",
      " 7   signup_month            791302 non-null  object \n",
      " 8   invoice_month           791302 non-null  object \n",
      " 9   invoice_id              791302 non-null  int64  \n",
      " 10  amount                  791302 non-null  int64  \n",
      " 11  subscription_desc       791302 non-null  object \n",
      " 12  subscription_price      791302 non-null  float64\n",
      " 13  subscription_available  791302 non-null  int64  \n",
      "dtypes: float64(3), int64(4), object(7)\n",
      "memory usage: 84.5+ MB\n"
     ]
    }
   ],
   "source": [
    "df.info()"
   ]
  },
  {
   "cell_type": "markdown",
   "id": "14866217",
   "metadata": {},
   "source": [
    "How many have churned? "
   ]
  },
  {
   "cell_type": "code",
   "execution_count": 41,
   "id": "f07835f0",
   "metadata": {},
   "outputs": [
    {
     "name": "stdout",
     "output_type": "stream",
     "text": [
      "15513 customers have churned of 29400 total customers\n",
      "52.77% have churned\n"
     ]
    }
   ],
   "source": [
    "n_churned_customers = df[df.churn_month.notna()].customer_id.nunique()\n",
    "n_customers = df.customer_id.nunique()\n",
    "\n",
    "print(\"{} customers have churned of {} total customers\".format(n_churned_customers, n_customers))\n",
    "print(\"{churn_pct:.2f}% have churned\".format(churn_pct = n_churned_customers/n_customers*100))"
   ]
  },
  {
   "cell_type": "markdown",
   "id": "d9f7cb2b",
   "metadata": {},
   "source": [
    "How is churn defined? If a customer has a 0 invoice month, does that indicate churn? \n",
    "We will count the number of customers with at least one 0 month and see if that number is equal to the number of churned customers. "
   ]
  },
  {
   "cell_type": "code",
   "execution_count": 48,
   "id": "50d73f66",
   "metadata": {},
   "outputs": [],
   "source": [
    "min_amount = df.groupby(['customer_id'])['amount'].min()\n"
   ]
  },
  {
   "cell_type": "code",
   "execution_count": 52,
   "id": "ccf1a09e",
   "metadata": {},
   "outputs": [
    {
     "name": "stdout",
     "output_type": "stream",
     "text": [
      "24367 customers have at least one month of $0 of 29400 total customers\n",
      "82.88% of customers have at least one month of $0\n"
     ]
    }
   ],
   "source": [
    "n_customers_with_a_zero_month = len(min_amount[min_amount == 0])\n",
    "\n",
    "print(\"{} customers have at least one month of $0 of {} total customers\".format(n_customers_with_a_zero_month, \n",
    "                                                                                n_customers))\n",
    "print(\"{zero_pct:.2f}% of customers have at least one month of $0\".format(zero_pct = \n",
    "                                                                          n_customers_with_a_zero_month/n_customers*100))"
   ]
  },
  {
   "cell_type": "markdown",
   "id": "4574d8a8",
   "metadata": {},
   "source": [
    "Let's convert data types and drop some unnecessary columns"
   ]
  },
  {
   "cell_type": "code",
   "execution_count": 58,
   "id": "8883090a",
   "metadata": {},
   "outputs": [],
   "source": [
    "df['churn_month'] = pd.to_datetime(df.churn_month, yearfirst=True)\n",
    "df['signup_month'] = pd.to_datetime(df.signup_month, yearfirst=True)\n",
    "df['invoice_month'] = pd.to_datetime(df.invoice_month, yearfirst=True)"
   ]
  },
  {
   "cell_type": "code",
   "execution_count": 62,
   "id": "d44d1c94",
   "metadata": {},
   "outputs": [],
   "source": [
    "df.drop(columns = ['Unnamed: 0', 'latitude', 'longitude', 'city'], inplace=True)"
   ]
  },
  {
   "cell_type": "markdown",
   "id": "7077ee31",
   "metadata": {},
   "source": [
    "Next, summarize each column of data. "
   ]
  },
  {
   "cell_type": "code",
   "execution_count": 78,
   "id": "ccaba53f",
   "metadata": {},
   "outputs": [],
   "source": [
    "numeric_cols = ['amount', 'subscription_price', 'subscription_available']\n",
    "cat_cols = ['subscription_desc', 'state', 'district']\n",
    "date_cols = ['churn_month', 'signup_month', 'invoice_month']"
   ]
  },
  {
   "cell_type": "code",
   "execution_count": 79,
   "id": "edff13c9",
   "metadata": {},
   "outputs": [
    {
     "data": {
      "text/html": [
       "<div>\n",
       "<style scoped>\n",
       "    .dataframe tbody tr th:only-of-type {\n",
       "        vertical-align: middle;\n",
       "    }\n",
       "\n",
       "    .dataframe tbody tr th {\n",
       "        vertical-align: top;\n",
       "    }\n",
       "\n",
       "    .dataframe thead th {\n",
       "        text-align: right;\n",
       "    }\n",
       "</style>\n",
       "<table border=\"1\" class=\"dataframe\">\n",
       "  <thead>\n",
       "    <tr style=\"text-align: right;\">\n",
       "      <th></th>\n",
       "      <th>amount</th>\n",
       "      <th>subscription_price</th>\n",
       "      <th>subscription_available</th>\n",
       "    </tr>\n",
       "  </thead>\n",
       "  <tbody>\n",
       "    <tr>\n",
       "      <th>count</th>\n",
       "      <td>791302.000000</td>\n",
       "      <td>791302.000000</td>\n",
       "      <td>791302.0</td>\n",
       "    </tr>\n",
       "    <tr>\n",
       "      <th>mean</th>\n",
       "      <td>2.971179</td>\n",
       "      <td>2.971179</td>\n",
       "      <td>1.0</td>\n",
       "    </tr>\n",
       "    <tr>\n",
       "      <th>std</th>\n",
       "      <td>4.731037</td>\n",
       "      <td>4.731037</td>\n",
       "      <td>0.0</td>\n",
       "    </tr>\n",
       "    <tr>\n",
       "      <th>min</th>\n",
       "      <td>0.000000</td>\n",
       "      <td>0.000000</td>\n",
       "      <td>1.0</td>\n",
       "    </tr>\n",
       "    <tr>\n",
       "      <th>25%</th>\n",
       "      <td>0.000000</td>\n",
       "      <td>0.000000</td>\n",
       "      <td>1.0</td>\n",
       "    </tr>\n",
       "    <tr>\n",
       "      <th>50%</th>\n",
       "      <td>0.000000</td>\n",
       "      <td>0.000000</td>\n",
       "      <td>1.0</td>\n",
       "    </tr>\n",
       "    <tr>\n",
       "      <th>75%</th>\n",
       "      <td>5.000000</td>\n",
       "      <td>5.000000</td>\n",
       "      <td>1.0</td>\n",
       "    </tr>\n",
       "    <tr>\n",
       "      <th>max</th>\n",
       "      <td>20.000000</td>\n",
       "      <td>20.000000</td>\n",
       "      <td>1.0</td>\n",
       "    </tr>\n",
       "  </tbody>\n",
       "</table>\n",
       "</div>"
      ],
      "text/plain": [
       "              amount  subscription_price  subscription_available\n",
       "count  791302.000000       791302.000000                791302.0\n",
       "mean        2.971179            2.971179                     1.0\n",
       "std         4.731037            4.731037                     0.0\n",
       "min         0.000000            0.000000                     1.0\n",
       "25%         0.000000            0.000000                     1.0\n",
       "50%         0.000000            0.000000                     1.0\n",
       "75%         5.000000            5.000000                     1.0\n",
       "max        20.000000           20.000000                     1.0"
      ]
     },
     "execution_count": 79,
     "metadata": {},
     "output_type": "execute_result"
    }
   ],
   "source": [
    "df[numeric_cols].describe()"
   ]
  },
  {
   "cell_type": "markdown",
   "id": "67e0c5dc",
   "metadata": {},
   "source": [
    "**Takeaways**\n",
    "\n",
    "- subscription_available has no entropy. All values are 1. Drop column. \n",
    "- amount and subscription_price represent the same values. Drop subscription_price. "
   ]
  },
  {
   "cell_type": "code",
   "execution_count": 80,
   "id": "7198c1be",
   "metadata": {},
   "outputs": [
    {
     "name": "stderr",
     "output_type": "stream",
     "text": [
      "<ipython-input-80-ce652dca41b5>:1: FutureWarning: Treating datetime data as categorical rather than numeric in `.describe` is deprecated and will be removed in a future version of pandas. Specify `datetime_is_numeric=True` to silence this warning and adopt the future behavior now.\n",
      "  df[date_cols].describe(include='all')\n",
      "<ipython-input-80-ce652dca41b5>:1: FutureWarning: Treating datetime data as categorical rather than numeric in `.describe` is deprecated and will be removed in a future version of pandas. Specify `datetime_is_numeric=True` to silence this warning and adopt the future behavior now.\n",
      "  df[date_cols].describe(include='all')\n",
      "<ipython-input-80-ce652dca41b5>:1: FutureWarning: Treating datetime data as categorical rather than numeric in `.describe` is deprecated and will be removed in a future version of pandas. Specify `datetime_is_numeric=True` to silence this warning and adopt the future behavior now.\n",
      "  df[date_cols].describe(include='all')\n"
     ]
    },
    {
     "data": {
      "text/html": [
       "<div>\n",
       "<style scoped>\n",
       "    .dataframe tbody tr th:only-of-type {\n",
       "        vertical-align: middle;\n",
       "    }\n",
       "\n",
       "    .dataframe tbody tr th {\n",
       "        vertical-align: top;\n",
       "    }\n",
       "\n",
       "    .dataframe thead th {\n",
       "        text-align: right;\n",
       "    }\n",
       "</style>\n",
       "<table border=\"1\" class=\"dataframe\">\n",
       "  <thead>\n",
       "    <tr style=\"text-align: right;\">\n",
       "      <th></th>\n",
       "      <th>churn_month</th>\n",
       "      <th>signup_month</th>\n",
       "      <th>invoice_month</th>\n",
       "    </tr>\n",
       "  </thead>\n",
       "  <tbody>\n",
       "    <tr>\n",
       "      <th>count</th>\n",
       "      <td>293366</td>\n",
       "      <td>791302</td>\n",
       "      <td>791302</td>\n",
       "    </tr>\n",
       "    <tr>\n",
       "      <th>unique</th>\n",
       "      <td>47</td>\n",
       "      <td>48</td>\n",
       "      <td>48</td>\n",
       "    </tr>\n",
       "    <tr>\n",
       "      <th>top</th>\n",
       "      <td>2017-09-30 00:00:00</td>\n",
       "      <td>2014-01-31 00:00:00</td>\n",
       "      <td>2014-01-31 00:00:00</td>\n",
       "    </tr>\n",
       "    <tr>\n",
       "      <th>freq</th>\n",
       "      <td>10340</td>\n",
       "      <td>621719</td>\n",
       "      <td>20000</td>\n",
       "    </tr>\n",
       "    <tr>\n",
       "      <th>first</th>\n",
       "      <td>2014-01-31 00:00:00</td>\n",
       "      <td>2014-01-31 00:00:00</td>\n",
       "      <td>2014-01-31 00:00:00</td>\n",
       "    </tr>\n",
       "    <tr>\n",
       "      <th>last</th>\n",
       "      <td>2017-11-30 00:00:00</td>\n",
       "      <td>2017-12-31 00:00:00</td>\n",
       "      <td>2017-12-31 00:00:00</td>\n",
       "    </tr>\n",
       "  </tbody>\n",
       "</table>\n",
       "</div>"
      ],
      "text/plain": [
       "                churn_month         signup_month        invoice_month\n",
       "count                293366               791302               791302\n",
       "unique                   47                   48                   48\n",
       "top     2017-09-30 00:00:00  2014-01-31 00:00:00  2014-01-31 00:00:00\n",
       "freq                  10340               621719                20000\n",
       "first   2014-01-31 00:00:00  2014-01-31 00:00:00  2014-01-31 00:00:00\n",
       "last    2017-11-30 00:00:00  2017-12-31 00:00:00  2017-12-31 00:00:00"
      ]
     },
     "execution_count": 80,
     "metadata": {},
     "output_type": "execute_result"
    }
   ],
   "source": [
    "df[date_cols].describe(include='all')"
   ]
  },
  {
   "cell_type": "markdown",
   "id": "aabf4f48",
   "metadata": {},
   "source": [
    "**Takeaways**\n",
    "\n",
    "- Our data goes from start of 2014 through end of 2017. \n",
    "- Look at those who have churned to see what the data shows for their amount and their plan. Do customers have a way to notify they are churning or do they change from a paid plan to a churn plan? Or does their invoice amount go to 0? "
   ]
  },
  {
   "cell_type": "code",
   "execution_count": 83,
   "id": "9955b434",
   "metadata": {},
   "outputs": [
    {
     "data": {
      "text/html": [
       "<div>\n",
       "<style scoped>\n",
       "    .dataframe tbody tr th:only-of-type {\n",
       "        vertical-align: middle;\n",
       "    }\n",
       "\n",
       "    .dataframe tbody tr th {\n",
       "        vertical-align: top;\n",
       "    }\n",
       "\n",
       "    .dataframe thead th {\n",
       "        text-align: right;\n",
       "    }\n",
       "</style>\n",
       "<table border=\"1\" class=\"dataframe\">\n",
       "  <thead>\n",
       "    <tr style=\"text-align: right;\">\n",
       "      <th></th>\n",
       "      <th>subscription_desc</th>\n",
       "      <th>state</th>\n",
       "      <th>district</th>\n",
       "    </tr>\n",
       "  </thead>\n",
       "  <tbody>\n",
       "    <tr>\n",
       "      <th>count</th>\n",
       "      <td>791302</td>\n",
       "      <td>791302</td>\n",
       "      <td>791302</td>\n",
       "    </tr>\n",
       "    <tr>\n",
       "      <th>unique</th>\n",
       "      <td>5</td>\n",
       "      <td>1</td>\n",
       "      <td>14</td>\n",
       "    </tr>\n",
       "    <tr>\n",
       "      <th>top</th>\n",
       "      <td>free</td>\n",
       "      <td>MA</td>\n",
       "      <td>MIDDLESEX</td>\n",
       "    </tr>\n",
       "    <tr>\n",
       "      <th>freq</th>\n",
       "      <td>499033</td>\n",
       "      <td>791302</td>\n",
       "      <td>175238</td>\n",
       "    </tr>\n",
       "  </tbody>\n",
       "</table>\n",
       "</div>"
      ],
      "text/plain": [
       "       subscription_desc   state   district\n",
       "count             791302  791302     791302\n",
       "unique                 5       1         14\n",
       "top                 free      MA  MIDDLESEX\n",
       "freq              499033  791302     175238"
      ]
     },
     "execution_count": 83,
     "metadata": {},
     "output_type": "execute_result"
    }
   ],
   "source": [
    "df[cat_cols].describe(include='all')"
   ]
  },
  {
   "cell_type": "code",
   "execution_count": 88,
   "id": "2dcbbaf4",
   "metadata": {},
   "outputs": [
    {
     "data": {
      "text/html": [
       "<div>\n",
       "<style scoped>\n",
       "    .dataframe tbody tr th:only-of-type {\n",
       "        vertical-align: middle;\n",
       "    }\n",
       "\n",
       "    .dataframe tbody tr th {\n",
       "        vertical-align: top;\n",
       "    }\n",
       "\n",
       "    .dataframe thead th {\n",
       "        text-align: right;\n",
       "    }\n",
       "</style>\n",
       "<table border=\"1\" class=\"dataframe\">\n",
       "  <thead>\n",
       "    <tr style=\"text-align: right;\">\n",
       "      <th></th>\n",
       "      <th>min</th>\n",
       "      <th>max</th>\n",
       "    </tr>\n",
       "    <tr>\n",
       "      <th>subscription_desc</th>\n",
       "      <th></th>\n",
       "      <th></th>\n",
       "    </tr>\n",
       "  </thead>\n",
       "  <tbody>\n",
       "    <tr>\n",
       "      <th>corporate</th>\n",
       "      <td>20</td>\n",
       "      <td>20</td>\n",
       "    </tr>\n",
       "    <tr>\n",
       "      <th>free</th>\n",
       "      <td>0</td>\n",
       "      <td>0</td>\n",
       "    </tr>\n",
       "    <tr>\n",
       "      <th>reseller</th>\n",
       "      <td>15</td>\n",
       "      <td>15</td>\n",
       "    </tr>\n",
       "    <tr>\n",
       "      <th>smb</th>\n",
       "      <td>10</td>\n",
       "      <td>10</td>\n",
       "    </tr>\n",
       "    <tr>\n",
       "      <th>student</th>\n",
       "      <td>5</td>\n",
       "      <td>5</td>\n",
       "    </tr>\n",
       "  </tbody>\n",
       "</table>\n",
       "</div>"
      ],
      "text/plain": [
       "                   min  max\n",
       "subscription_desc          \n",
       "corporate           20   20\n",
       "free                 0    0\n",
       "reseller            15   15\n",
       "smb                 10   10\n",
       "student              5    5"
      ]
     },
     "execution_count": 88,
     "metadata": {},
     "output_type": "execute_result"
    }
   ],
   "source": [
    "df.groupby(['subscription_desc'])['amount'].agg(['min','max'])"
   ]
  },
  {
   "cell_type": "code",
   "execution_count": 93,
   "id": "4a33aee3",
   "metadata": {},
   "outputs": [
    {
     "data": {
      "text/plain": [
       "subscription_desc\n",
       "corporate    14\n",
       "free         14\n",
       "reseller     14\n",
       "smb          14\n",
       "student      14\n",
       "Name: district, dtype: int64"
      ]
     },
     "execution_count": 93,
     "metadata": {},
     "output_type": "execute_result"
    }
   ],
   "source": [
    "df.groupby(['subscription_desc'])['district'].nunique()"
   ]
  },
  {
   "cell_type": "markdown",
   "id": "63f55c95",
   "metadata": {},
   "source": [
    "**Takeaways**\n",
    "\n",
    "- All are in massachusetts. Drop 'state' column.\n",
    "- Vast majority of subscriptions are free. Can accounts change from free to reseller/corporate and back? \n",
    "- types of subscriptions: free (\\\\$0), student (\\\\$5), smb (\\\\$10), reseller (\\\\$15), corporate (\\\\$20)"
   ]
  },
  {
   "cell_type": "code",
   "execution_count": 94,
   "id": "6f353293",
   "metadata": {},
   "outputs": [
    {
     "data": {
      "text/html": [
       "<div>\n",
       "<style scoped>\n",
       "    .dataframe tbody tr th:only-of-type {\n",
       "        vertical-align: middle;\n",
       "    }\n",
       "\n",
       "    .dataframe tbody tr th {\n",
       "        vertical-align: top;\n",
       "    }\n",
       "\n",
       "    .dataframe thead th {\n",
       "        text-align: right;\n",
       "    }\n",
       "</style>\n",
       "<table border=\"1\" class=\"dataframe\">\n",
       "  <thead>\n",
       "    <tr style=\"text-align: right;\">\n",
       "      <th></th>\n",
       "      <th>customer_id</th>\n",
       "      <th>city</th>\n",
       "      <th>state</th>\n",
       "      <th>district</th>\n",
       "      <th>churn_month</th>\n",
       "      <th>signup_month</th>\n",
       "      <th>invoice_month</th>\n",
       "      <th>invoice_id</th>\n",
       "      <th>amount</th>\n",
       "      <th>subscription_desc</th>\n",
       "      <th>subscription_price</th>\n",
       "      <th>subscription_available</th>\n",
       "    </tr>\n",
       "  </thead>\n",
       "  <tbody>\n",
       "    <tr>\n",
       "      <th>0</th>\n",
       "      <td>1000000</td>\n",
       "      <td>EAST BRIDGEWATER</td>\n",
       "      <td>MA</td>\n",
       "      <td>PLYMOUTH</td>\n",
       "      <td>2014-12-31</td>\n",
       "      <td>2014-01-31</td>\n",
       "      <td>2014-01-31</td>\n",
       "      <td>5000000</td>\n",
       "      <td>0</td>\n",
       "      <td>free</td>\n",
       "      <td>0.0</td>\n",
       "      <td>1</td>\n",
       "    </tr>\n",
       "    <tr>\n",
       "      <th>1</th>\n",
       "      <td>1000002</td>\n",
       "      <td>BOSTON</td>\n",
       "      <td>MA</td>\n",
       "      <td>SUFFOLK</td>\n",
       "      <td>2017-08-31</td>\n",
       "      <td>2014-01-31</td>\n",
       "      <td>2014-01-31</td>\n",
       "      <td>5000002</td>\n",
       "      <td>0</td>\n",
       "      <td>free</td>\n",
       "      <td>0.0</td>\n",
       "      <td>1</td>\n",
       "    </tr>\n",
       "    <tr>\n",
       "      <th>2</th>\n",
       "      <td>1000004</td>\n",
       "      <td>LYNN</td>\n",
       "      <td>MA</td>\n",
       "      <td>ESSEX</td>\n",
       "      <td>2015-09-30</td>\n",
       "      <td>2014-01-31</td>\n",
       "      <td>2014-01-31</td>\n",
       "      <td>5000004</td>\n",
       "      <td>10</td>\n",
       "      <td>smb</td>\n",
       "      <td>10.0</td>\n",
       "      <td>1</td>\n",
       "    </tr>\n",
       "    <tr>\n",
       "      <th>3</th>\n",
       "      <td>1000005</td>\n",
       "      <td>DENNIS</td>\n",
       "      <td>MA</td>\n",
       "      <td>BARNSTABLE</td>\n",
       "      <td>2014-09-30</td>\n",
       "      <td>2014-01-31</td>\n",
       "      <td>2014-01-31</td>\n",
       "      <td>5000005</td>\n",
       "      <td>0</td>\n",
       "      <td>free</td>\n",
       "      <td>0.0</td>\n",
       "      <td>1</td>\n",
       "    </tr>\n",
       "    <tr>\n",
       "      <th>4</th>\n",
       "      <td>1000006</td>\n",
       "      <td>LAWRENCE</td>\n",
       "      <td>MA</td>\n",
       "      <td>ESSEX</td>\n",
       "      <td>2015-03-31</td>\n",
       "      <td>2014-01-31</td>\n",
       "      <td>2014-01-31</td>\n",
       "      <td>5000006</td>\n",
       "      <td>20</td>\n",
       "      <td>corporate</td>\n",
       "      <td>20.0</td>\n",
       "      <td>1</td>\n",
       "    </tr>\n",
       "    <tr>\n",
       "      <th>...</th>\n",
       "      <td>...</td>\n",
       "      <td>...</td>\n",
       "      <td>...</td>\n",
       "      <td>...</td>\n",
       "      <td>...</td>\n",
       "      <td>...</td>\n",
       "      <td>...</td>\n",
       "      <td>...</td>\n",
       "      <td>...</td>\n",
       "      <td>...</td>\n",
       "      <td>...</td>\n",
       "      <td>...</td>\n",
       "    </tr>\n",
       "    <tr>\n",
       "      <th>791297</th>\n",
       "      <td>1029333</td>\n",
       "      <td>NEWTON</td>\n",
       "      <td>MA</td>\n",
       "      <td>MIDDLESEX</td>\n",
       "      <td>NaT</td>\n",
       "      <td>2017-12-31</td>\n",
       "      <td>2017-12-31</td>\n",
       "      <td>5791235</td>\n",
       "      <td>0</td>\n",
       "      <td>free</td>\n",
       "      <td>0.0</td>\n",
       "      <td>1</td>\n",
       "    </tr>\n",
       "    <tr>\n",
       "      <th>791298</th>\n",
       "      <td>1029341</td>\n",
       "      <td>WORCESTER</td>\n",
       "      <td>MA</td>\n",
       "      <td>WORCESTER</td>\n",
       "      <td>NaT</td>\n",
       "      <td>2017-12-31</td>\n",
       "      <td>2017-12-31</td>\n",
       "      <td>5791243</td>\n",
       "      <td>0</td>\n",
       "      <td>free</td>\n",
       "      <td>0.0</td>\n",
       "      <td>1</td>\n",
       "    </tr>\n",
       "    <tr>\n",
       "      <th>791299</th>\n",
       "      <td>1029347</td>\n",
       "      <td>EAST BOSTON</td>\n",
       "      <td>MA</td>\n",
       "      <td>SUFFOLK</td>\n",
       "      <td>NaT</td>\n",
       "      <td>2017-12-31</td>\n",
       "      <td>2017-12-31</td>\n",
       "      <td>5791249</td>\n",
       "      <td>10</td>\n",
       "      <td>smb</td>\n",
       "      <td>10.0</td>\n",
       "      <td>1</td>\n",
       "    </tr>\n",
       "    <tr>\n",
       "      <th>791300</th>\n",
       "      <td>1029364</td>\n",
       "      <td>BRIGHTON</td>\n",
       "      <td>MA</td>\n",
       "      <td>SUFFOLK</td>\n",
       "      <td>NaT</td>\n",
       "      <td>2017-12-31</td>\n",
       "      <td>2017-12-31</td>\n",
       "      <td>5791266</td>\n",
       "      <td>0</td>\n",
       "      <td>free</td>\n",
       "      <td>0.0</td>\n",
       "      <td>1</td>\n",
       "    </tr>\n",
       "    <tr>\n",
       "      <th>791301</th>\n",
       "      <td>1029385</td>\n",
       "      <td>WESTPORT</td>\n",
       "      <td>MA</td>\n",
       "      <td>BRISTOL</td>\n",
       "      <td>NaT</td>\n",
       "      <td>2017-12-31</td>\n",
       "      <td>2017-12-31</td>\n",
       "      <td>5791287</td>\n",
       "      <td>0</td>\n",
       "      <td>free</td>\n",
       "      <td>0.0</td>\n",
       "      <td>1</td>\n",
       "    </tr>\n",
       "  </tbody>\n",
       "</table>\n",
       "<p>791302 rows × 12 columns</p>\n",
       "</div>"
      ],
      "text/plain": [
       "        customer_id              city state    district churn_month  \\\n",
       "0           1000000  EAST BRIDGEWATER    MA    PLYMOUTH  2014-12-31   \n",
       "1           1000002            BOSTON    MA     SUFFOLK  2017-08-31   \n",
       "2           1000004              LYNN    MA       ESSEX  2015-09-30   \n",
       "3           1000005            DENNIS    MA  BARNSTABLE  2014-09-30   \n",
       "4           1000006          LAWRENCE    MA       ESSEX  2015-03-31   \n",
       "...             ...               ...   ...         ...         ...   \n",
       "791297      1029333            NEWTON    MA   MIDDLESEX         NaT   \n",
       "791298      1029341         WORCESTER    MA   WORCESTER         NaT   \n",
       "791299      1029347       EAST BOSTON    MA     SUFFOLK         NaT   \n",
       "791300      1029364          BRIGHTON    MA     SUFFOLK         NaT   \n",
       "791301      1029385          WESTPORT    MA     BRISTOL         NaT   \n",
       "\n",
       "       signup_month invoice_month  invoice_id  amount subscription_desc  \\\n",
       "0        2014-01-31    2014-01-31     5000000       0              free   \n",
       "1        2014-01-31    2014-01-31     5000002       0              free   \n",
       "2        2014-01-31    2014-01-31     5000004      10               smb   \n",
       "3        2014-01-31    2014-01-31     5000005       0              free   \n",
       "4        2014-01-31    2014-01-31     5000006      20         corporate   \n",
       "...             ...           ...         ...     ...               ...   \n",
       "791297   2017-12-31    2017-12-31     5791235       0              free   \n",
       "791298   2017-12-31    2017-12-31     5791243       0              free   \n",
       "791299   2017-12-31    2017-12-31     5791249      10               smb   \n",
       "791300   2017-12-31    2017-12-31     5791266       0              free   \n",
       "791301   2017-12-31    2017-12-31     5791287       0              free   \n",
       "\n",
       "        subscription_price  subscription_available  \n",
       "0                      0.0                       1  \n",
       "1                      0.0                       1  \n",
       "2                     10.0                       1  \n",
       "3                      0.0                       1  \n",
       "4                     20.0                       1  \n",
       "...                    ...                     ...  \n",
       "791297                 0.0                       1  \n",
       "791298                 0.0                       1  \n",
       "791299                10.0                       1  \n",
       "791300                 0.0                       1  \n",
       "791301                 0.0                       1  \n",
       "\n",
       "[791302 rows x 12 columns]"
      ]
     },
     "execution_count": 94,
     "metadata": {},
     "output_type": "execute_result"
    }
   ],
   "source": [
    "df"
   ]
  },
  {
   "cell_type": "markdown",
   "id": "3622e331",
   "metadata": {},
   "source": [
    "What is the last month of invoices on record? \n",
    "\n",
    "\n",
    "I want to generate some new features that describe the patterns in customers' monthly invoices. \n",
    "\n",
    "- number of months with $0\n",
    "- number of months "
   ]
  },
  {
   "cell_type": "code",
   "execution_count": null,
   "id": "0cadb822",
   "metadata": {},
   "outputs": [],
   "source": []
  },
  {
   "cell_type": "markdown",
   "id": "049ad214",
   "metadata": {},
   "source": []
  },
  {
   "cell_type": "markdown",
   "id": "dd82f239",
   "metadata": {},
   "source": [
    "Drop unnecessary columns"
   ]
  },
  {
   "cell_type": "code",
   "execution_count": null,
   "id": "3bb689f7",
   "metadata": {},
   "outputs": [],
   "source": [
    "drop_cols = ['Unnamed: 0', 'latitude', 'longitude']\n",
    "df.drop(columns )"
   ]
  },
  {
   "cell_type": "markdown",
   "id": "cf4561a6",
   "metadata": {},
   "source": [
    "Ho"
   ]
  },
  {
   "cell_type": "code",
   "execution_count": null,
   "id": "e79efca5",
   "metadata": {},
   "outputs": [],
   "source": [
    "df."
   ]
  }
 ],
 "metadata": {
  "kernelspec": {
   "display_name": "Python 3",
   "language": "python",
   "name": "python3"
  },
  "language_info": {
   "codemirror_mode": {
    "name": "ipython",
    "version": 3
   },
   "file_extension": ".py",
   "mimetype": "text/x-python",
   "name": "python",
   "nbconvert_exporter": "python",
   "pygments_lexer": "ipython3",
   "version": "3.8.8"
  }
 },
 "nbformat": 4,
 "nbformat_minor": 5
}
